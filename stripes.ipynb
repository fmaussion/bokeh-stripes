{
 "cells": [
  {
   "cell_type": "code",
   "execution_count": null,
   "metadata": {},
   "outputs": [],
   "source": [
    "%matplotlib inline"
   ]
  },
  {
   "cell_type": "code",
   "execution_count": null,
   "metadata": {},
   "outputs": [],
   "source": [
    "import pandas as pd\n",
    "import matplotlib.pyplot as plt\n",
    "import numpy as np\n",
    "import holoviews as hv\n",
    "from bokeh.models import HoverTool\n",
    "from bokeh.plotting import output_file\n",
    "hv.extension('bokeh')"
   ]
  },
  {
   "cell_type": "markdown",
   "metadata": {},
   "source": [
    "### Intro "
   ]
  },
  {
   "cell_type": "markdown",
   "metadata": {},
   "source": [
    "Script to reproduce the \"[Warming Stripes](https://www.climate-lab-book.ac.uk/2018/warming-stripes/)\" from [Ed Hawkins](http://www.met.reading.ac.uk/~ed/home/index.php)."
   ]
  },
  {
   "cell_type": "markdown",
   "metadata": {},
   "source": [
    "### Read the data "
   ]
  },
  {
   "cell_type": "code",
   "execution_count": null,
   "metadata": {},
   "outputs": [],
   "source": [
    "# GISTEMP data from https://data.giss.nasa.gov/gistemp/tabledata_v3/GLB.Ts+dSST.csv\n",
    "# If you have the data, use:\n",
    "# df = pd.read_csv('GLB.Ts+dSST.csv', header=1, skipfooter=1, engine='python')\n",
    "\n",
    "# This downloads it:\n",
    "import requests, io\n",
    "url = 'https://data.giss.nasa.gov/gistemp/tabledata_v3/GLB.Ts+dSST.csv'\n",
    "response = requests.get(url)\n",
    "df = pd.read_csv(io.StringIO(response.text), header=1, skipfooter=1, engine='python')"
   ]
  },
  {
   "cell_type": "code",
   "execution_count": null,
   "metadata": {},
   "outputs": [],
   "source": [
    "# Annual values only\n",
    "dfa = df[['Year', 'J-D']].iloc[:-1].copy()\n",
    "dfa.columns = ['Year', 'Anomaly']\n",
    "# This is to trick holoviews into making an image out of the dataframe\n",
    "dfa['index'] = 1\n",
    "# We want to display the rank as well\n",
    "dfa['Rank'] = len(dfa) - np.argsort(dfa['Anomaly'])"
   ]
  },
  {
   "cell_type": "code",
   "execution_count": null,
   "metadata": {},
   "outputs": [],
   "source": [
    "# Monthly values\n",
    "dfm = df[df.columns[:13]].copy()\n",
    "dfm = pd.melt(dfm, id_vars='Year', var_name='Month', value_name='Anomaly')"
   ]
  },
  {
   "cell_type": "markdown",
   "metadata": {},
   "source": [
    "### Matplotlib plots "
   ]
  },
  {
   "cell_type": "code",
   "execution_count": null,
   "metadata": {},
   "outputs": [],
   "source": [
    "dfa['Anomaly'].plot();"
   ]
  },
  {
   "cell_type": "code",
   "execution_count": null,
   "metadata": {},
   "outputs": [],
   "source": [
    "plt.pcolormesh(dfa['Anomaly'].values.reshape((1, len(dfa))), cmap='RdBu_r')\n",
    "plt.colorbar();"
   ]
  },
  {
   "cell_type": "markdown",
   "metadata": {},
   "source": [
    "### Bokeh plot: annual stripes"
   ]
  },
  {
   "cell_type": "code",
   "execution_count": null,
   "metadata": {},
   "outputs": [],
   "source": [
    "# Display only these three columns as hover\n",
    "hover = HoverTool(\n",
    "        tooltips=[\n",
    "            (\"Year\", \"@Year\"),\n",
    "            (\"Anomaly\", \"@Anomaly\"),\n",
    "            (\"Rank\", \"@Rank\"),\n",
    "        ]\n",
    "    )"
   ]
  },
  {
   "cell_type": "code",
   "execution_count": null,
   "metadata": {},
   "outputs": [],
   "source": [
    "# simple trick to workaround https://github.com/ioam/holoviews/issues/2730\n",
    "def set_active_drag(plot, element):\n",
    "    plot.state.toolbar.active_drag = None"
   ]
  },
  {
   "cell_type": "code",
   "execution_count": null,
   "metadata": {},
   "outputs": [],
   "source": [
    "# Display the plot\n",
    "heatmap = hv.HeatMap(dfa, kdims=['Year', 'index'], \n",
    "                     label='NASA GISTEMP 1880-2017: annual deviation from 1951-1980 means')\n",
    "heatmap = heatmap.options(tools=[hover], cmap='RdBu_r', width=700, height=300,\n",
    "                xaxis=None, labelled=[], yaxis=None, toolbar=None,\n",
    "                finalize_hooks=[set_active_drag]) \n",
    "heatmap"
   ]
  },
  {
   "cell_type": "code",
   "execution_count": null,
   "metadata": {},
   "outputs": [],
   "source": [
    "# Save as HTML\n",
    "renderer = hv.renderer('bokeh')\n",
    "renderer.save(heatmap, 'annual-stripes-700x300')"
   ]
  },
  {
   "cell_type": "code",
   "execution_count": null,
   "metadata": {},
   "outputs": [],
   "source": [
    "# Save larger plot\n",
    "heatmap = hv.HeatMap(dfa, kdims=['Year', 'index'], \n",
    "                     label='NASA GISTEMP 1880-2017: annual deviation from 1951-1980 means')\n",
    "heatmap = heatmap.options(tools=[hover], cmap='RdBu_r', width=1200, height=600,\n",
    "                xaxis=None, labelled=[], yaxis=None, toolbar=None,\n",
    "                finalize_hooks=[set_active_drag]) \n",
    "renderer = hv.renderer('bokeh')\n",
    "renderer.save(heatmap, 'annual-stripes-1200x600')"
   ]
  },
  {
   "cell_type": "markdown",
   "metadata": {},
   "source": [
    "### Bokeh plot: monthly stripes"
   ]
  },
  {
   "cell_type": "code",
   "execution_count": null,
   "metadata": {},
   "outputs": [],
   "source": [
    "# Display the plot\n",
    "heatmap = hv.HeatMap(dfm, kdims=['Year', 'Month'], \n",
    "                     label='NASA GISTEMP 1880-2017: monthly deviation from 1951-1980 means')\n",
    "heatmap = heatmap.options(tools=['hover'], cmap='RdBu_r', width=700, height=300,\n",
    "                xaxis=None, labelled=[], yaxis=None, toolbar=None,\n",
    "                finalize_hooks=[set_active_drag]) \n",
    "heatmap"
   ]
  },
  {
   "cell_type": "code",
   "execution_count": null,
   "metadata": {},
   "outputs": [],
   "source": [
    "# Save as HTML\n",
    "renderer = hv.renderer('bokeh')\n",
    "renderer.save(heatmap, 'monthly-stripes-700x300')"
   ]
  },
  {
   "cell_type": "code",
   "execution_count": null,
   "metadata": {},
   "outputs": [],
   "source": [
    "# Save larger plot\n",
    "heatmap = hv.HeatMap(dfm, kdims=['Year', 'Month'], \n",
    "                     label='NASA GISTEMP 1880-2017: monthly deviation from 1951-1980 means')\n",
    "heatmap = heatmap.options(tools=['hover'], cmap='RdBu_r', width=1200, height=600,\n",
    "                xaxis=None, labelled=[], yaxis=None, toolbar=None,\n",
    "                finalize_hooks=[set_active_drag]) \n",
    "renderer = hv.renderer('bokeh')\n",
    "renderer.save(heatmap, 'monthly-stripes-1200x600')"
   ]
  },
  {
   "cell_type": "code",
   "execution_count": null,
   "metadata": {},
   "outputs": [],
   "source": []
  }
 ],
 "metadata": {
  "hide_input": false,
  "kernelspec": {
   "display_name": "Python 3",
   "language": "python",
   "name": "python3"
  },
  "language_info": {
   "codemirror_mode": {
    "name": "ipython",
    "version": 3
   },
   "file_extension": ".py",
   "mimetype": "text/x-python",
   "name": "python",
   "nbconvert_exporter": "python",
   "pygments_lexer": "ipython3",
   "version": "3.5.2"
  },
  "toc": {
   "base_numbering": 1,
   "nav_menu": {},
   "number_sections": false,
   "sideBar": true,
   "skip_h1_title": true,
   "title_cell": "Table of Contents",
   "title_sidebar": "Contents",
   "toc_cell": false,
   "toc_position": {},
   "toc_section_display": true,
   "toc_window_display": false
  }
 },
 "nbformat": 4,
 "nbformat_minor": 2
}
